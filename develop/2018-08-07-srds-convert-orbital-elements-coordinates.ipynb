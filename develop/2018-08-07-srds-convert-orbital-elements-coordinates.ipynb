{
 "cells": [
  {
   "cell_type": "markdown",
   "metadata": {},
   "source": [
    "# Convert orbital elements in cartesian coordinates and velocities\n",
    "\n",
    "This notebook convert orbital elements in cartesian coordinates and velocities.\n",
    "\n",
    "The input is a table with the [positions and velocities](../data/xv.csv)"
   ]
  },
  {
   "cell_type": "markdown",
   "metadata": {},
   "source": [
    "## Import modules"
   ]
  },
  {
   "cell_type": "code",
   "execution_count": 7,
   "metadata": {},
   "outputs": [],
   "source": [
    "# Plots inline\n",
    "%matplotlib inline\n",
    "\n",
    "# Import modules\n",
    "import os\n",
    "import sys\n",
    "sys.path.insert(0, '../src/oe2xv/') # For orbel program\n",
    "from orbel_mac import orbel_el2xv\n",
    "#from orbel_linux import orbel_el2xv\n",
    "import numpy as np\n",
    "import pandas as pd\n",
    "import matplotlib.pyplot as plt\n",
    "import matplotlib\n",
    "import yaml"
   ]
  },
  {
   "cell_type": "markdown",
   "metadata": {},
   "source": [
    "## Settings"
   ]
  },
  {
   "cell_type": "code",
   "execution_count": 3,
   "metadata": {},
   "outputs": [],
   "source": [
    "# Matplotlib config\n",
    "plt.style.use('ggplot')\n",
    "font = {'size'   :  16}\n",
    "matplotlib.rc('font', **font)"
   ]
  },
  {
   "cell_type": "code",
   "execution_count": 4,
   "metadata": {},
   "outputs": [],
   "source": [
    "# Definitons\n",
    "path_proj = os.getcwd()\n",
    "\n",
    "with open('../src/parameters.yaml', \"r\") as f:\n",
    "    parameters = yaml.load(f)\n",
    "    \n",
    "n_planets = parameters[\"n_planets\"]\n",
    "n_clones = parameters[\"n_clones\"]\n",
    "n_lines = n_planets * n_clones\n",
    "gm = parameters[\"gm\"]\n",
    "ialpha = parameters[\"ialpha\"]"
   ]
  },
  {
   "cell_type": "markdown",
   "metadata": {},
   "source": [
    "## Read orbital elements"
   ]
  },
  {
   "cell_type": "code",
   "execution_count": 5,
   "metadata": {},
   "outputs": [
    {
     "data": {
      "text/html": [
       "<div>\n",
       "<style scoped>\n",
       "    .dataframe tbody tr th:only-of-type {\n",
       "        vertical-align: middle;\n",
       "    }\n",
       "\n",
       "    .dataframe tbody tr th {\n",
       "        vertical-align: top;\n",
       "    }\n",
       "\n",
       "    .dataframe thead th {\n",
       "        text-align: right;\n",
       "    }\n",
       "</style>\n",
       "<table border=\"1\" class=\"dataframe\">\n",
       "  <thead>\n",
       "    <tr style=\"text-align: right;\">\n",
       "      <th></th>\n",
       "      <th>a</th>\n",
       "      <th>e</th>\n",
       "      <th>i</th>\n",
       "      <th>capom</th>\n",
       "      <th>omega</th>\n",
       "      <th>capm</th>\n",
       "    </tr>\n",
       "  </thead>\n",
       "  <tbody>\n",
       "    <tr>\n",
       "      <th>0</th>\n",
       "      <td>0.387098</td>\n",
       "      <td>0.000393</td>\n",
       "      <td>0.016586</td>\n",
       "      <td>251.025109</td>\n",
       "      <td>288.709639</td>\n",
       "      <td>132.827011</td>\n",
       "    </tr>\n",
       "    <tr>\n",
       "      <th>1</th>\n",
       "      <td>0.723327</td>\n",
       "      <td>0.000539</td>\n",
       "      <td>0.036557</td>\n",
       "      <td>191.248113</td>\n",
       "      <td>288.440720</td>\n",
       "      <td>202.223117</td>\n",
       "    </tr>\n",
       "    <tr>\n",
       "      <th>2</th>\n",
       "      <td>1.000372</td>\n",
       "      <td>0.000445</td>\n",
       "      <td>0.013753</td>\n",
       "      <td>15.174005</td>\n",
       "      <td>339.929885</td>\n",
       "      <td>187.707600</td>\n",
       "    </tr>\n",
       "    <tr>\n",
       "      <th>3</th>\n",
       "      <td>1.523678</td>\n",
       "      <td>0.000192</td>\n",
       "      <td>0.035616</td>\n",
       "      <td>206.705288</td>\n",
       "      <td>323.702897</td>\n",
       "      <td>37.244802</td>\n",
       "    </tr>\n",
       "    <tr>\n",
       "      <th>4</th>\n",
       "      <td>5.205109</td>\n",
       "      <td>0.000326</td>\n",
       "      <td>0.014810</td>\n",
       "      <td>311.275892</td>\n",
       "      <td>222.116643</td>\n",
       "      <td>334.210634</td>\n",
       "    </tr>\n",
       "  </tbody>\n",
       "</table>\n",
       "</div>"
      ],
      "text/plain": [
       "          a         e         i       capom       omega        capm\n",
       "0  0.387098  0.000393  0.016586  251.025109  288.709639  132.827011\n",
       "1  0.723327  0.000539  0.036557  191.248113  288.440720  202.223117\n",
       "2  1.000372  0.000445  0.013753   15.174005  339.929885  187.707600\n",
       "3  1.523678  0.000192  0.035616  206.705288  323.702897   37.244802\n",
       "4  5.205109  0.000326  0.014810  311.275892  222.116643  334.210634"
      ]
     },
     "execution_count": 5,
     "metadata": {},
     "output_type": "execute_result"
    }
   ],
   "source": [
    "# Read orbial elements. \n",
    "oe = pd.read_csv('../data/oe.csv')\n",
    "oe.head()"
   ]
  },
  {
   "cell_type": "markdown",
   "metadata": {},
   "source": [
    "## Call orbel module and convert coordinates"
   ]
  },
  {
   "cell_type": "code",
   "execution_count": 8,
   "metadata": {},
   "outputs": [
    {
     "data": {
      "text/html": [
       "<div>\n",
       "<style scoped>\n",
       "    .dataframe tbody tr th:only-of-type {\n",
       "        vertical-align: middle;\n",
       "    }\n",
       "\n",
       "    .dataframe tbody tr th {\n",
       "        vertical-align: top;\n",
       "    }\n",
       "\n",
       "    .dataframe thead th {\n",
       "        text-align: right;\n",
       "    }\n",
       "</style>\n",
       "<table border=\"1\" class=\"dataframe\">\n",
       "  <thead>\n",
       "    <tr style=\"text-align: right;\">\n",
       "      <th></th>\n",
       "      <th>x</th>\n",
       "      <th>y</th>\n",
       "      <th>z</th>\n",
       "      <th>vx</th>\n",
       "      <th>vy</th>\n",
       "      <th>vz</th>\n",
       "    </tr>\n",
       "  </thead>\n",
       "  <tbody>\n",
       "    <tr>\n",
       "      <th>0</th>\n",
       "      <td>0.373832</td>\n",
       "      <td>0.100038</td>\n",
       "      <td>0.003430</td>\n",
       "      <td>-2.609200</td>\n",
       "      <td>9.757295</td>\n",
       "      <td>0.141625</td>\n",
       "    </tr>\n",
       "    <tr>\n",
       "      <th>1</th>\n",
       "      <td>-0.710420</td>\n",
       "      <td>-0.134439</td>\n",
       "      <td>0.014405</td>\n",
       "      <td>1.374141</td>\n",
       "      <td>-7.256771</td>\n",
       "      <td>0.226510</td>\n",
       "    </tr>\n",
       "    <tr>\n",
       "      <th>2</th>\n",
       "      <td>-0.774681</td>\n",
       "      <td>0.632441</td>\n",
       "      <td>-0.002065</td>\n",
       "      <td>-3.972189</td>\n",
       "      <td>-4.868411</td>\n",
       "      <td>0.085445</td>\n",
       "    </tr>\n",
       "    <tr>\n",
       "      <th>3</th>\n",
       "      <td>-0.854512</td>\n",
       "      <td>1.261065</td>\n",
       "      <td>0.017867</td>\n",
       "      <td>-4.213031</td>\n",
       "      <td>-2.852890</td>\n",
       "      <td>-0.171172</td>\n",
       "    </tr>\n",
       "    <tr>\n",
       "      <th>4</th>\n",
       "      <td>4.505686</td>\n",
       "      <td>2.604836</td>\n",
       "      <td>-0.020260</td>\n",
       "      <td>-1.377785</td>\n",
       "      <td>2.384577</td>\n",
       "      <td>-0.039358</td>\n",
       "    </tr>\n",
       "  </tbody>\n",
       "</table>\n",
       "</div>"
      ],
      "text/plain": [
       "          x         y         z        vx        vy        vz\n",
       "0  0.373832  0.100038  0.003430 -2.609200  9.757295  0.141625\n",
       "1 -0.710420 -0.134439  0.014405  1.374141 -7.256771  0.226510\n",
       "2 -0.774681  0.632441 -0.002065 -3.972189 -4.868411  0.085445\n",
       "3 -0.854512  1.261065  0.017867 -4.213031 -2.852890 -0.171172\n",
       "4  4.505686  2.604836 -0.020260 -1.377785  2.384577 -0.039358"
      ]
     },
     "execution_count": 8,
     "metadata": {},
     "output_type": "execute_result"
    }
   ],
   "source": [
    "# Applying orbel function and create dataframe xv with postions and velocities\n",
    "# Note: no need loop\n",
    "xv = {'v': oe.apply(lambda row: orbel_el2xv(gm, ialpha, row['a'], row['e'], row['i'], row['capom'], \\\n",
    "                                            row['omega'],row['capm']), axis=1)}\n",
    "# Transform Serie into dataframe\n",
    "xv = pd.DataFrame(xv)\n",
    "\n",
    "# Splits the tuples column and then removes it\n",
    "xv = pd.DataFrame(xv['v'].values.tolist(), columns=['x', 'y', 'z', 'vx', 'vy', 'vz'])\n",
    "xv.head()"
   ]
  },
  {
   "cell_type": "markdown",
   "metadata": {},
   "source": [
    "## Save file"
   ]
  },
  {
   "cell_type": "code",
   "execution_count": 9,
   "metadata": {},
   "outputs": [],
   "source": [
    "# Save data\n",
    "xv.to_csv('../data/xv.csv', index=False)"
   ]
  },
  {
   "cell_type": "markdown",
   "metadata": {},
   "source": [
    "## Verifying results"
   ]
  },
  {
   "cell_type": "markdown",
   "metadata": {},
   "source": [
    "### Inner planets' x and y coordinates "
   ]
  },
  {
   "cell_type": "code",
   "execution_count": 10,
   "metadata": {},
   "outputs": [
    {
     "data": {
      "text/plain": [
       "[<matplotlib.lines.Line2D at 0x116a307b8>]"
      ]
     },
     "execution_count": 10,
     "metadata": {},
     "output_type": "execute_result"
    },
    {
     "data": {
      "image/png": "[encoded data removed]",
      "text/plain": [
       "<matplotlib.figure.Figure at 0x1169c34e0>"
      ]
     },
     "metadata": {},
     "output_type": "display_data"
    }
   ],
   "source": [
    "plt.figure(figsize = (8,8))\n",
    "plt.axis('equal')\n",
    "plt.xlim(-1.62,1.62)\n",
    "plt.ylim(-1.62,1.62)\n",
    "plt.title(\"Inner Solar System: Distribution of clones\")\n",
    "plt.xlabel(\"x axis [au]\")\n",
    "plt.ylabel(\"y axis [au]\")\n",
    "plt.plot(xv['x'], xv['y'], '.')"
   ]
  },
  {
   "cell_type": "markdown",
   "metadata": {},
   "source": [
    "### Giant planets"
   ]
  },
  {
   "cell_type": "code",
   "execution_count": 11,
   "metadata": {},
   "outputs": [
    {
     "data": {
      "text/plain": [
       "[<matplotlib.lines.Line2D at 0x11e9d4438>]"
      ]
     },
     "execution_count": 11,
     "metadata": {},
     "output_type": "execute_result"
    },
    {
     "data": {
      "image/png": "[encoded data removed]",
      "text/plain": [
       "<matplotlib.figure.Figure at 0x116a05be0>"
      ]
     },
     "metadata": {},
     "output_type": "display_data"
    }
   ],
   "source": [
    "plt.figure(figsize = (8,8))\n",
    "plt.axis('equal')\n",
    "plt.xlim(-32.0,32.0)\n",
    "plt.ylim(-32.0,32.0)\n",
    "plt.title(\"Giants Solar System: Distribution of clones\")\n",
    "plt.xlabel(\"x axis [au]\")\n",
    "plt.ylabel(\"y axis [au]\")\n",
    "plt.plot(xv['x'], xv['y'], '.')"
   ]
  }
 ],
 "metadata": {
  "kernelspec": {
   "display_name": "Python 3",
   "language": "python",
   "name": "python3"
  },
  "language_info": {
   "codemirror_mode": {
    "name": "ipython",
    "version": 3
   },
   "file_extension": ".py",
   "mimetype": "text/x-python",
   "name": "python",
   "nbconvert_exporter": "python",
   "pygments_lexer": "ipython3",
   "version": "3.6.4"
  }
 },
 "nbformat": 4,
 "nbformat_minor": 2
}
