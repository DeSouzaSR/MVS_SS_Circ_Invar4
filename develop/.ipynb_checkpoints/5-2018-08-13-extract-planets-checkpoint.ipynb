{
 "cells": [
  {
   "cell_type": "markdown",
   "metadata": {},
   "source": [
    "# Extract data of the planets\n",
    "\n",
    "The output of Swift program is a binary file. This Notebook extract the planets' data and convert it in a text file, separated each planet."
   ]
  },
  {
   "cell_type": "markdown",
   "metadata": {},
   "source": [
    "## Import modules, configuring variables and settings paths"
   ]
  },
  {
   "cell_type": "code",
   "execution_count": 8,
   "metadata": {},
   "outputs": [],
   "source": [
    "import os\n",
    "import subprocess\n",
    "import shutil\n",
    "from glob import glob\n",
    "import yaml\n",
    "import platform"
   ]
  },
  {
   "cell_type": "code",
   "execution_count": 21,
   "metadata": {},
   "outputs": [],
   "source": [
    "# Definitons\n",
    "if platform.system() == 'Darwin': \n",
    "    # Mac\n",
    "    path_proj = '/Users/sandro/Documents/Projetos/MVS_SS_Circ_Invar4'\n",
    "    follow_path = '/Users/sandro/Programas/swift/tools'\n",
    "else:\n",
    "    # Linux\n",
    "    path_proj = '/home/sandro/Documentos/Projetos/MVS_SS_Circ_Invar4'\n",
    "    follow_path = '/home/sandro/Programas/swift/tools'\n",
    "\n",
    "os.chdir(path_proj)\n",
    "\n",
    "path_ss_data = path_proj + '/data/ss'\n",
    "prefix_simulation = 'ss-'\n",
    "# Follow program path\n",
    " # Linux\n",
    " # Mac\n",
    "\n",
    "with open(path_proj + '/src/parameters.yaml', \"r\") as f:\n",
    "    parameters = yaml.load(f)\n",
    "    \n",
    "n_planets = parameters[\"n_planets\"]\n",
    "n_clones = parameters[\"n_clones\"]\n",
    "n_lines = n_planets * n_clones"
   ]
  },
  {
   "cell_type": "code",
   "execution_count": 22,
   "metadata": {},
   "outputs": [],
   "source": [
    "# Code planets used by follow_swift program\n",
    "planets = {\"Mercury\":-2, \"Venus\":-3, \"Earth\":-4, \"Mars\":-5,\\\n",
    "           \"Jupiter\":-6, \"Saturn\":-7, \"Uranus\":-8, \"Neptune\":-9}"
   ]
  },
  {
   "cell_type": "markdown",
   "metadata": {},
   "source": [
    "## Extrating planets"
   ]
  },
  {
   "cell_type": "code",
   "execution_count": 23,
   "metadata": {},
   "outputs": [],
   "source": [
    "os.chdir(path_ss_data)\n",
    "for clone in range(n_clones):\n",
    "    os.chdir(prefix_simulation + '{}'.format(clone))\n",
    "    shutil.copy(follow_path + \"/follow_swift.x\", \".\")\n",
    "    for planet in planets:\n",
    "        with open(\"input_follow.txt\", \"w\") as f:\n",
    "            f.write(str(planets[planet]) + \"\\n1\")\n",
    "        subprocess.run(\"./follow_swift.x < input_follow.txt\", shell = True)\n",
    "        os.rename(\"follow.out\", planet + \".txt\")\n",
    "        os.remove(\"input_follow.txt\")\n",
    "    os.remove(\"follow_swift.x\")\n",
    "    os.chdir(\"..\")\n",
    "os.chdir(path_proj)"
   ]
  }
 ],
 "metadata": {
  "kernelspec": {
   "display_name": "Python 3",
   "language": "python",
   "name": "python3"
  },
  "language_info": {
   "codemirror_mode": {
    "name": "ipython",
    "version": 3
   },
   "file_extension": ".py",
   "mimetype": "text/x-python",
   "name": "python",
   "nbconvert_exporter": "python",
   "pygments_lexer": "ipython3",
   "version": "3.6.4"
  }
 },
 "nbformat": 4,
 "nbformat_minor": 2
}
