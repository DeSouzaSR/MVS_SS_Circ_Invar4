{
 "cells": [
  {
   "cell_type": "markdown",
   "metadata": {},
   "source": [
    "# Convert orbital elements in cartesian coordinates and velocities\n",
    "\n",
    "This notebook transforms cartesian positions and velocities to the invariable plane\n",
    "\n",
    "The input is a table with the [positions and velocities](../data/xv.csv)"
   ]
  },
  {
   "cell_type": "markdown",
   "metadata": {},
   "source": [
    "## Import modules"
   ]
  },
  {
   "cell_type": "code",
   "execution_count": 1,
   "metadata": {},
   "outputs": [],
   "source": [
    "# Plots inline\n",
    "%matplotlib inline\n",
    "\n",
    "# Import modules\n",
    "import os\n",
    "import numpy as np\n",
    "import pandas as pd\n",
    "import matplotlib.pyplot as plt\n",
    "import matplotlib\n",
    "import yaml"
   ]
  },
  {
   "cell_type": "markdown",
   "metadata": {},
   "source": [
    "### Setting fonts for Matplotlib"
   ]
  },
  {
   "cell_type": "code",
   "execution_count": 2,
   "metadata": {},
   "outputs": [],
   "source": [
    "# Matplotlib\n",
    "plt.style.use('ggplot')\n",
    "font = {'size'   :  16}\n",
    "matplotlib.rc('font', **font)"
   ]
  },
  {
   "cell_type": "markdown",
   "metadata": {},
   "source": [
    "## Setting paths and read parameters"
   ]
  },
  {
   "cell_type": "code",
   "execution_count": 3,
   "metadata": {},
   "outputs": [],
   "source": [
    "# Definitons\n",
    "path_proj = os.getcwd()\n",
    "\n",
    "with open('parameters.yaml', \"r\") as f:\n",
    "    parameters = yaml.load(f)\n",
    "    \n",
    "n_planets = parameters[\"n_planets\"]\n",
    "n_clones = parameters[\"n_clones\"]\n",
    "n_lines = n_planets * n_clones\n",
    "gm = parameters[\"gm\"]\n",
    "ialpha = parameters[\"ialpha\"]\n",
    "m = parameters[\"mass\"]"
   ]
  },
  {
   "cell_type": "markdown",
   "metadata": {},
   "source": [
    "## Reading the dataframe and configuring the variables"
   ]
  },
  {
   "cell_type": "code",
   "execution_count": 4,
   "metadata": {},
   "outputs": [
    {
     "data": {
      "text/html": [
       "<div>\n",
       "<style scoped>\n",
       "    .dataframe tbody tr th:only-of-type {\n",
       "        vertical-align: middle;\n",
       "    }\n",
       "\n",
       "    .dataframe tbody tr th {\n",
       "        vertical-align: top;\n",
       "    }\n",
       "\n",
       "    .dataframe thead th {\n",
       "        text-align: right;\n",
       "    }\n",
       "</style>\n",
       "<table border=\"1\" class=\"dataframe\">\n",
       "  <thead>\n",
       "    <tr style=\"text-align: right;\">\n",
       "      <th></th>\n",
       "      <th>x</th>\n",
       "      <th>y</th>\n",
       "      <th>z</th>\n",
       "      <th>vx</th>\n",
       "      <th>vy</th>\n",
       "      <th>vz</th>\n",
       "    </tr>\n",
       "  </thead>\n",
       "  <tbody>\n",
       "    <tr>\n",
       "      <th>0</th>\n",
       "      <td>0.373832</td>\n",
       "      <td>0.100038</td>\n",
       "      <td>0.003430</td>\n",
       "      <td>-2.609200</td>\n",
       "      <td>9.757295</td>\n",
       "      <td>0.141625</td>\n",
       "    </tr>\n",
       "    <tr>\n",
       "      <th>1</th>\n",
       "      <td>-0.710420</td>\n",
       "      <td>-0.134439</td>\n",
       "      <td>0.014405</td>\n",
       "      <td>1.374141</td>\n",
       "      <td>-7.256771</td>\n",
       "      <td>0.226510</td>\n",
       "    </tr>\n",
       "    <tr>\n",
       "      <th>2</th>\n",
       "      <td>-0.774681</td>\n",
       "      <td>0.632441</td>\n",
       "      <td>-0.002065</td>\n",
       "      <td>-3.972189</td>\n",
       "      <td>-4.868411</td>\n",
       "      <td>0.085445</td>\n",
       "    </tr>\n",
       "    <tr>\n",
       "      <th>3</th>\n",
       "      <td>-0.854512</td>\n",
       "      <td>1.261065</td>\n",
       "      <td>0.017867</td>\n",
       "      <td>-4.213031</td>\n",
       "      <td>-2.852890</td>\n",
       "      <td>-0.171172</td>\n",
       "    </tr>\n",
       "    <tr>\n",
       "      <th>4</th>\n",
       "      <td>4.505686</td>\n",
       "      <td>2.604836</td>\n",
       "      <td>-0.020260</td>\n",
       "      <td>-1.377785</td>\n",
       "      <td>2.384577</td>\n",
       "      <td>-0.039358</td>\n",
       "    </tr>\n",
       "  </tbody>\n",
       "</table>\n",
       "</div>"
      ],
      "text/plain": [
       "          x         y         z        vx        vy        vz\n",
       "0  0.373832  0.100038  0.003430 -2.609200  9.757295  0.141625\n",
       "1 -0.710420 -0.134439  0.014405  1.374141 -7.256771  0.226510\n",
       "2 -0.774681  0.632441 -0.002065 -3.972189 -4.868411  0.085445\n",
       "3 -0.854512  1.261065  0.017867 -4.213031 -2.852890 -0.171172\n",
       "4  4.505686  2.604836 -0.020260 -1.377785  2.384577 -0.039358"
      ]
     },
     "execution_count": 4,
     "metadata": {},
     "output_type": "execute_result"
    }
   ],
   "source": [
    "# Read cartesian coordinates\n",
    "coord = pd.read_csv('../data/xv.csv', dtype=float, delimiter=',')\n",
    "coord.head()"
   ]
  },
  {
   "cell_type": "code",
   "execution_count": 5,
   "metadata": {},
   "outputs": [],
   "source": [
    "# Variables\n",
    "x  = np.array(coord.x)\n",
    "y  = np.array(coord.y)\n",
    "z  = np.array(coord.z)\n",
    "vx  = np.array(coord.vx)\n",
    "vy  = np.array(coord.vy)\n",
    "vz  = np.array(coord.vz)"
   ]
  },
  {
   "cell_type": "markdown",
   "metadata": {},
   "source": [
    "## Calculate angular momentum"
   ]
  },
  {
   "cell_type": "code",
   "execution_count": 6,
   "metadata": {},
   "outputs": [],
   "source": [
    "#Computes angular momentum of the system\n",
    "amx = 0.0\n",
    "amy = 0.0\n",
    "amz = 0.0\n",
    "\n",
    "for i in range(n_planets):\n",
    "    amx = amx + m[i]*y[i]*vz[i] - m[i]*z[i]*vy[i]\n",
    "    amy = amy + m[i]*z[i]*vx[i] - m[i]*x[i]*vz[i]\n",
    "    amz = amz + m[i]*x[i]*vy[i] - m[i]*y[i]*vx[i]\n",
    "    \n",
    "# Angular momentum module\n",
    "am = np.sqrt(amx*amx + amy*amy + amz*amz)\n",
    "\n",
    "# Amgular momentum inclination\n",
    "aminc = np.arccos(amz/am)\n",
    "\n",
    "# Angular momentum long. node\n",
    "amcapom = np.arctan2(amx,-amy)"
   ]
  },
  {
   "cell_type": "markdown",
   "metadata": {},
   "source": [
    "## Applying rotation to the invariant plane"
   ]
  },
  {
   "cell_type": "code",
   "execution_count": 7,
   "metadata": {},
   "outputs": [],
   "source": [
    "# Rotation to the invariable plane\n",
    "for i in range(5):\n",
    "    xp  =  x[i]*np.cos(amcapom)+y[i]*np.sin(amcapom)\n",
    "    yp  = -x[i]*np.sin(amcapom)+y[i]*np.cos(amcapom)\n",
    "    vxp =  vx[i]*np.cos(amcapom)+vy[i]*np.sin(amcapom)\n",
    "    vyp = -vx[i]*np.sin(amcapom)+vy[i]*np.cos(amcapom)\n",
    "    x[i] = xp\n",
    "    y[i] = yp\n",
    "    vx[i] = vxp\n",
    "    vy[i] = vyp\n",
    "    yp  =  y[i]*np.cos(aminc)+z[i]*np.sin(aminc)\n",
    "    zp  = -y[i]*np.sin(aminc)+z[i]*np.cos(aminc)\n",
    "    vyp =  vy[i]*np.cos(aminc)+vz[i]*np.sin(aminc)\n",
    "    vzp = -vy[i]*np.sin(aminc)+vz[i]*np.cos(aminc)\n",
    "    y[i] = yp\n",
    "    z[i] = zp\n",
    "    vy[i] = vyp\n",
    "    vz[i] = vzp"
   ]
  },
  {
   "cell_type": "markdown",
   "metadata": {},
   "source": [
    "## Creating dataframe with new positions and velocities."
   ]
  },
  {
   "cell_type": "code",
   "execution_count": 8,
   "metadata": {},
   "outputs": [
    {
     "data": {
      "text/html": [
       "<div>\n",
       "<style scoped>\n",
       "    .dataframe tbody tr th:only-of-type {\n",
       "        vertical-align: middle;\n",
       "    }\n",
       "\n",
       "    .dataframe tbody tr th {\n",
       "        vertical-align: top;\n",
       "    }\n",
       "\n",
       "    .dataframe thead th {\n",
       "        text-align: right;\n",
       "    }\n",
       "</style>\n",
       "<table border=\"1\" class=\"dataframe\">\n",
       "  <thead>\n",
       "    <tr style=\"text-align: right;\">\n",
       "      <th></th>\n",
       "      <th>x</th>\n",
       "      <th>y</th>\n",
       "      <th>z</th>\n",
       "      <th>vx</th>\n",
       "      <th>vy</th>\n",
       "      <th>vz</th>\n",
       "    </tr>\n",
       "  </thead>\n",
       "  <tbody>\n",
       "    <tr>\n",
       "      <th>0</th>\n",
       "      <td>-0.378443</td>\n",
       "      <td>0.080907</td>\n",
       "      <td>0.002226</td>\n",
       "      <td>-2.112302</td>\n",
       "      <td>-9.873583</td>\n",
       "      <td>0.288668</td>\n",
       "    </tr>\n",
       "    <tr>\n",
       "      <th>1</th>\n",
       "      <td>0.693871</td>\n",
       "      <td>-0.203020</td>\n",
       "      <td>0.017429</td>\n",
       "      <td>2.075445</td>\n",
       "      <td>7.090712</td>\n",
       "      <td>0.120947</td>\n",
       "    </tr>\n",
       "    <tr>\n",
       "      <th>2</th>\n",
       "      <td>0.402438</td>\n",
       "      <td>-0.915438</td>\n",
       "      <td>0.011567</td>\n",
       "      <td>5.751355</td>\n",
       "      <td>2.531136</td>\n",
       "      <td>0.047764</td>\n",
       "    </tr>\n",
       "    <tr>\n",
       "      <th>3</th>\n",
       "      <td>0.187732</td>\n",
       "      <td>-1.511265</td>\n",
       "      <td>0.040373</td>\n",
       "      <td>5.049493</td>\n",
       "      <td>0.622869</td>\n",
       "      <td>-0.180466</td>\n",
       "    </tr>\n",
       "    <tr>\n",
       "      <th>4</th>\n",
       "      <td>-5.197371</td>\n",
       "      <td>-0.271767</td>\n",
       "      <td>-0.016216</td>\n",
       "      <td>0.142981</td>\n",
       "      <td>-2.750564</td>\n",
       "      <td>0.001596</td>\n",
       "    </tr>\n",
       "  </tbody>\n",
       "</table>\n",
       "</div>"
      ],
      "text/plain": [
       "          x         y         z        vx        vy        vz\n",
       "0 -0.378443  0.080907  0.002226 -2.112302 -9.873583  0.288668\n",
       "1  0.693871 -0.203020  0.017429  2.075445  7.090712  0.120947\n",
       "2  0.402438 -0.915438  0.011567  5.751355  2.531136  0.047764\n",
       "3  0.187732 -1.511265  0.040373  5.049493  0.622869 -0.180466\n",
       "4 -5.197371 -0.271767 -0.016216  0.142981 -2.750564  0.001596"
      ]
     },
     "execution_count": 8,
     "metadata": {},
     "output_type": "execute_result"
    }
   ],
   "source": [
    "# Crate data frame\n",
    "{'x':x, 'y':y, 'z':z, 'vx':vx, 'vy':vy, 'vz':vz}\n",
    "coord = pd.DataFrame({'x':x, 'y':y, 'z':z, 'vx':vx, 'vy':vy, 'vz':vz}, columns=['x', 'y', 'z', 'vx', 'vy', 'vz'])\n",
    "coord.head()"
   ]
  },
  {
   "cell_type": "markdown",
   "metadata": {},
   "source": [
    "## Save dataframe"
   ]
  },
  {
   "cell_type": "code",
   "execution_count": 9,
   "metadata": {},
   "outputs": [],
   "source": [
    "# Save data\n",
    "coord.to_csv(\"../data/xv_invar.csv\", index=False)"
   ]
  },
  {
   "cell_type": "markdown",
   "metadata": {},
   "source": [
    "## Verifying distribution of positions and velocities"
   ]
  },
  {
   "cell_type": "code",
   "execution_count": 10,
   "metadata": {},
   "outputs": [
    {
     "data": {
      "text/plain": [
       "[<matplotlib.lines.Line2D at 0x10fef0940>]"
      ]
     },
     "execution_count": 10,
     "metadata": {},
     "output_type": "execute_result"
    },
    {
     "data": {
      "image/png": "[encoded data removed]",
      "text/plain": [
       "<matplotlib.figure.Figure at 0x10f2adf28>"
      ]
     },
     "metadata": {},
     "output_type": "display_data"
    }
   ],
   "source": [
    "plt.figure(figsize = (8,8))\n",
    "plt.axis('equal')\n",
    "plt.xlim(-1.62,1.62)\n",
    "plt.ylim(-1.62,1.62)\n",
    "plt.title(\"Inner Solar System: Distribution of clones\")\n",
    "plt.xlabel(\"x axis [au]\")\n",
    "plt.ylabel(\"y axis [au]\")\n",
    "plt.plot(coord['x'], coord['y'], '.')"
   ]
  },
  {
   "cell_type": "code",
   "execution_count": 11,
   "metadata": {},
   "outputs": [
    {
     "data": {
      "text/plain": [
       "[<matplotlib.lines.Line2D at 0x10ff94630>]"
      ]
     },
     "execution_count": 11,
     "metadata": {},
     "output_type": "execute_result"
    },
    {
     "data": {
      "image/png": "[encoded data removed]",
      "text/plain": [
       "<matplotlib.figure.Figure at 0x10f2ad0b8>"
      ]
     },
     "metadata": {},
     "output_type": "display_data"
    }
   ],
   "source": [
    "plt.figure(figsize = (8,8))\n",
    "plt.axis('equal')\n",
    "plt.xlim(-32.0,32.0)\n",
    "plt.ylim(-32.0,32.0)\n",
    "plt.title(\"Giants Solar System: Distribution of clones\")\n",
    "plt.xlabel(\"x axis [au]\")\n",
    "plt.ylabel(\"y axis [au]\")\n",
    "plt.plot(coord['x'], coord['y'], '.')"
   ]
  }
 ],
 "metadata": {
  "kernelspec": {
   "display_name": "Python 3",
   "language": "python",
   "name": "python3"
  },
  "language_info": {
   "codemirror_mode": {
    "name": "ipython",
    "version": 3
   },
   "file_extension": ".py",
   "mimetype": "text/x-python",
   "name": "python",
   "nbconvert_exporter": "python",
   "pygments_lexer": "ipython3",
   "version": "3.6.4"
  }
 },
 "nbformat": 4,
 "nbformat_minor": 2
}
