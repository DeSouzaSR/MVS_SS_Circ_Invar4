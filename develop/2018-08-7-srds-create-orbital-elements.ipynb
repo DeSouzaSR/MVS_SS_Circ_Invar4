{
 "cells": [
  {
   "cell_type": "markdown",
   "metadata": {},
   "source": [
    "# Orbital elements\n",
    "This notebook generates a table of orbital elements for simulation of the Solar System. The values will be chosen randomly within a range. The semi-major axis are the current values.\n",
    "\n",
    "- semi_major_axis: The semi-major axis are the current values\n",
    "- eccentr = 0.0 - 0.001: Eccentricity\n",
    "- incl = 0.0 - 0.1: Inclination:\n",
    "- capom = 0.0 - 360.0 degrees: Longitude of ascending node \n",
    "- omega = 0.0 - 360.0 degrees: Argument of the periastro.\n",
    "- capm = 0.0 - 360.0 degrees: Mean anomaly."
   ]
  },
  {
   "cell_type": "markdown",
   "metadata": {},
   "source": [
    "## Import modules"
   ]
  },
  {
   "cell_type": "code",
   "execution_count": 1,
   "metadata": {},
   "outputs": [],
   "source": [
    "# Import modules\n",
    "import os\n",
    "import numpy as np\n",
    "import pandas as pd\n",
    "import yaml"
   ]
  },
  {
   "cell_type": "markdown",
   "metadata": {},
   "source": [
    "## Settings"
   ]
  },
  {
   "cell_type": "code",
   "execution_count": 4,
   "metadata": {},
   "outputs": [
    {
     "ename": "FileNotFoundError",
     "evalue": "[Errno 2] No such file or directory: '../src/parameters.yaml'",
     "output_type": "error",
     "traceback": [
      "\u001b[0;31m---------------------------------------------------------------------------\u001b[0m",
      "\u001b[0;31mFileNotFoundError\u001b[0m                         Traceback (most recent call last)",
      "\u001b[0;32m<ipython-input-4-ecd0d7417761>\u001b[0m in \u001b[0;36m<module>\u001b[0;34m()\u001b[0m\n\u001b[1;32m      3\u001b[0m \u001b[0;34m\u001b[0m\u001b[0m\n\u001b[1;32m      4\u001b[0m \u001b[0;31m# Read common parameters\u001b[0m\u001b[0;34m\u001b[0m\u001b[0;34m\u001b[0m\u001b[0m\n\u001b[0;32m----> 5\u001b[0;31m \u001b[0;32mwith\u001b[0m \u001b[0mopen\u001b[0m\u001b[0;34m(\u001b[0m\u001b[0;34m'../src/parameters.yaml'\u001b[0m\u001b[0;34m,\u001b[0m \u001b[0;34m\"r\"\u001b[0m\u001b[0;34m)\u001b[0m \u001b[0;32mas\u001b[0m \u001b[0mf\u001b[0m\u001b[0;34m:\u001b[0m\u001b[0;34m\u001b[0m\u001b[0m\n\u001b[0m\u001b[1;32m      6\u001b[0m     \u001b[0mparameters\u001b[0m \u001b[0;34m=\u001b[0m \u001b[0myaml\u001b[0m\u001b[0;34m.\u001b[0m\u001b[0mload\u001b[0m\u001b[0;34m(\u001b[0m\u001b[0mf\u001b[0m\u001b[0;34m)\u001b[0m\u001b[0;34m\u001b[0m\u001b[0m\n\u001b[1;32m      7\u001b[0m \u001b[0;34m\u001b[0m\u001b[0m\n",
      "\u001b[0;31mFileNotFoundError\u001b[0m: [Errno 2] No such file or directory: '../src/parameters.yaml'"
     ]
    }
   ],
   "source": [
    "# Definitons\n",
    "path_proj = os.getcwd()\n",
    "\n",
    "# Read common parameters\n",
    "with open('../src/parameters.yaml', \"r\") as f:\n",
    "    parameters = yaml.load(f)\n",
    "    \n",
    "semi_major_axis = parameters[\"semi_major_axis\"]\n",
    "n_planets = parameters[\"n_planets\"]\n",
    "n_clones = parameters[\"n_clones\"]\n",
    "n_lines = n_planets * n_clones\n",
    "seed = parameters[\"seed\"] # 24515445, JD for 2000-01-01 00h00, ignoring decimal point."
   ]
  },
  {
   "cell_type": "markdown",
   "metadata": {},
   "source": [
    "## Generating random orbital elements\n",
    "\n",
    "- Semi-major axis: Replicating the semi-major axis throughout the simulation clones, using np.tile method.\n",
    "- orbital elements: using $n = (b - a)\\cdot \\text{random + a}$, where range = [a,b)"
   ]
  },
  {
   "cell_type": "code",
   "execution_count": 3,
   "metadata": {
    "collapsed": true
   },
   "outputs": [],
   "source": [
    "# Using seed\n",
    "np.random.seed(seed)\n",
    "\n",
    "# Create a dictionary of orbital elements\n",
    "planets_dict = {'a'    : np.tile(semi_major_axis, n_clones),\n",
    "                'e'    : 0.001 * np.random.random_sample(n_lines), \n",
    "                'i'    : 0.1   * np.random.random_sample(n_lines), \n",
    "                'capom': 361   * np.random.random_sample(n_lines), \n",
    "                'omega': 361   * np.random.random_sample(n_lines),  \n",
    "                'capm' : 361   * np.random.random_sample(n_lines)}"
   ]
  },
  {
   "cell_type": "markdown",
   "metadata": {},
   "source": [
    "## Create a dataframe"
   ]
  },
  {
   "cell_type": "code",
   "execution_count": 4,
   "metadata": {},
   "outputs": [
    {
     "data": {
      "text/html": [
       "<div>\n",
       "<style scoped>\n",
       "    .dataframe tbody tr th:only-of-type {\n",
       "        vertical-align: middle;\n",
       "    }\n",
       "\n",
       "    .dataframe tbody tr th {\n",
       "        vertical-align: top;\n",
       "    }\n",
       "\n",
       "    .dataframe thead th {\n",
       "        text-align: right;\n",
       "    }\n",
       "</style>\n",
       "<table border=\"1\" class=\"dataframe\">\n",
       "  <thead>\n",
       "    <tr style=\"text-align: right;\">\n",
       "      <th></th>\n",
       "      <th>a</th>\n",
       "      <th>e</th>\n",
       "      <th>i</th>\n",
       "      <th>capom</th>\n",
       "      <th>omega</th>\n",
       "      <th>capm</th>\n",
       "    </tr>\n",
       "  </thead>\n",
       "  <tbody>\n",
       "    <tr>\n",
       "      <th>0</th>\n",
       "      <td>0.387098</td>\n",
       "      <td>0.000393</td>\n",
       "      <td>0.016586</td>\n",
       "      <td>251.025109</td>\n",
       "      <td>288.709639</td>\n",
       "      <td>132.827011</td>\n",
       "    </tr>\n",
       "    <tr>\n",
       "      <th>1</th>\n",
       "      <td>0.723327</td>\n",
       "      <td>0.000539</td>\n",
       "      <td>0.036557</td>\n",
       "      <td>191.248113</td>\n",
       "      <td>288.440720</td>\n",
       "      <td>202.223117</td>\n",
       "    </tr>\n",
       "    <tr>\n",
       "      <th>2</th>\n",
       "      <td>1.000372</td>\n",
       "      <td>0.000445</td>\n",
       "      <td>0.013753</td>\n",
       "      <td>15.174005</td>\n",
       "      <td>339.929885</td>\n",
       "      <td>187.707600</td>\n",
       "    </tr>\n",
       "    <tr>\n",
       "      <th>3</th>\n",
       "      <td>1.523678</td>\n",
       "      <td>0.000192</td>\n",
       "      <td>0.035616</td>\n",
       "      <td>206.705288</td>\n",
       "      <td>323.702897</td>\n",
       "      <td>37.244802</td>\n",
       "    </tr>\n",
       "    <tr>\n",
       "      <th>4</th>\n",
       "      <td>5.205109</td>\n",
       "      <td>0.000326</td>\n",
       "      <td>0.014810</td>\n",
       "      <td>311.275892</td>\n",
       "      <td>222.116643</td>\n",
       "      <td>334.210634</td>\n",
       "    </tr>\n",
       "    <tr>\n",
       "      <th>5</th>\n",
       "      <td>9.581452</td>\n",
       "      <td>0.000898</td>\n",
       "      <td>0.011224</td>\n",
       "      <td>317.143423</td>\n",
       "      <td>219.768944</td>\n",
       "      <td>173.898771</td>\n",
       "    </tr>\n",
       "    <tr>\n",
       "      <th>6</th>\n",
       "      <td>19.229945</td>\n",
       "      <td>0.000775</td>\n",
       "      <td>0.050334</td>\n",
       "      <td>237.073283</td>\n",
       "      <td>259.549612</td>\n",
       "      <td>272.597730</td>\n",
       "    </tr>\n",
       "    <tr>\n",
       "      <th>7</th>\n",
       "      <td>30.096971</td>\n",
       "      <td>0.000292</td>\n",
       "      <td>0.032271</td>\n",
       "      <td>73.277754</td>\n",
       "      <td>227.223953</td>\n",
       "      <td>42.076538</td>\n",
       "    </tr>\n",
       "    <tr>\n",
       "      <th>8</th>\n",
       "      <td>0.387098</td>\n",
       "      <td>0.000516</td>\n",
       "      <td>0.060817</td>\n",
       "      <td>81.077461</td>\n",
       "      <td>106.936819</td>\n",
       "      <td>220.290725</td>\n",
       "    </tr>\n",
       "    <tr>\n",
       "      <th>9</th>\n",
       "      <td>0.723327</td>\n",
       "      <td>0.000786</td>\n",
       "      <td>0.028407</td>\n",
       "      <td>248.222029</td>\n",
       "      <td>146.006536</td>\n",
       "      <td>253.402774</td>\n",
       "    </tr>\n",
       "  </tbody>\n",
       "</table>\n",
       "</div>"
      ],
      "text/plain": [
       "           a         e         i       capom       omega        capm\n",
       "0   0.387098  0.000393  0.016586  251.025109  288.709639  132.827011\n",
       "1   0.723327  0.000539  0.036557  191.248113  288.440720  202.223117\n",
       "2   1.000372  0.000445  0.013753   15.174005  339.929885  187.707600\n",
       "3   1.523678  0.000192  0.035616  206.705288  323.702897   37.244802\n",
       "4   5.205109  0.000326  0.014810  311.275892  222.116643  334.210634\n",
       "5   9.581452  0.000898  0.011224  317.143423  219.768944  173.898771\n",
       "6  19.229945  0.000775  0.050334  237.073283  259.549612  272.597730\n",
       "7  30.096971  0.000292  0.032271   73.277754  227.223953   42.076538\n",
       "8   0.387098  0.000516  0.060817   81.077461  106.936819  220.290725\n",
       "9   0.723327  0.000786  0.028407  248.222029  146.006536  253.402774"
      ]
     },
     "execution_count": 4,
     "metadata": {},
     "output_type": "execute_result"
    }
   ],
   "source": [
    "# Create a dataframe of orbital elements.\n",
    "orbital_elements_name = ['a', 'e', 'i', 'capom', 'omega', 'capm']\n",
    "planets = pd.DataFrame(planets_dict, columns=orbital_elements_name)\n",
    "planets[0:10]"
   ]
  },
  {
   "cell_type": "markdown",
   "metadata": {},
   "source": [
    "## Save file"
   ]
  },
  {
   "cell_type": "code",
   "execution_count": 5,
   "metadata": {
    "collapsed": true
   },
   "outputs": [],
   "source": [
    "planets.to_csv('results/oe.csv', index=False)"
   ]
  },
  {
   "cell_type": "code",
   "execution_count": 6,
   "metadata": {},
   "outputs": [
    {
     "name": "stdout",
     "output_type": "stream",
     "text": [
      "\u001b[34mSS\u001b[m\u001b[m        SS.tar.gz mvs.in    oe.csv    param.in  tp.in     xv.csv\r\n"
     ]
    }
   ],
   "source": [
    "!ls results/"
   ]
  }
 ],
 "metadata": {
  "kernelspec": {
   "display_name": "Python 3",
   "language": "python",
   "name": "python3"
  },
  "language_info": {
   "codemirror_mode": {
    "name": "ipython",
    "version": 3
   },
   "file_extension": ".py",
   "mimetype": "text/x-python",
   "name": "python",
   "nbconvert_exporter": "python",
   "pygments_lexer": "ipython3",
   "version": "3.6.4"
  }
 },
 "nbformat": 4,
 "nbformat_minor": 2
}
