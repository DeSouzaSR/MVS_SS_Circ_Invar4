{
 "cells": [
  {
   "cell_type": "markdown",
   "metadata": {},
   "source": [
    "# Create Swift input files\n",
    "\n",
    "This notebook create directory structure with Swift input files."
   ]
  },
  {
   "cell_type": "markdown",
   "metadata": {},
   "source": [
    "## Import modules"
   ]
  },
  {
   "cell_type": "code",
   "execution_count": 1,
   "metadata": {},
   "outputs": [],
   "source": [
    "# Import modules\n",
    "import os\n",
    "import shutil\n",
    "import numpy as np\n",
    "import pandas as pd\n",
    "import yaml\n",
    "from glob import glob\n",
    "import tarfile"
   ]
  },
  {
   "cell_type": "markdown",
   "metadata": {},
   "source": [
    "## Setting paths and configuring variables"
   ]
  },
  {
   "cell_type": "code",
   "execution_count": 2,
   "metadata": {},
   "outputs": [],
   "source": [
    "# Definitons\n",
    "path_proj = os.getcwd()\n",
    "path_ss_data = '../data/ss/'\n",
    "\n",
    "with open('parameters.yaml', \"r\") as f:\n",
    "    parameters = yaml.load(f)\n",
    "    \n",
    "n_planets = parameters[\"n_planets\"]\n",
    "n_clones = parameters[\"n_clones\"]\n",
    "n_lines = n_planets * n_clones\n",
    "gm = parameters[\"gm\"]\n",
    "ialpha = parameters[\"ialpha\"]\n",
    "m = parameters[\"mass\"]"
   ]
  },
  {
   "cell_type": "markdown",
   "metadata": {},
   "source": [
    "## Read dataframe"
   ]
  },
  {
   "cell_type": "code",
   "execution_count": 3,
   "metadata": {},
   "outputs": [
    {
     "data": {
      "text/html": [
       "<div>\n",
       "<style scoped>\n",
       "    .dataframe tbody tr th:only-of-type {\n",
       "        vertical-align: middle;\n",
       "    }\n",
       "\n",
       "    .dataframe tbody tr th {\n",
       "        vertical-align: top;\n",
       "    }\n",
       "\n",
       "    .dataframe thead th {\n",
       "        text-align: right;\n",
       "    }\n",
       "</style>\n",
       "<table border=\"1\" class=\"dataframe\">\n",
       "  <thead>\n",
       "    <tr style=\"text-align: right;\">\n",
       "      <th></th>\n",
       "      <th>x</th>\n",
       "      <th>y</th>\n",
       "      <th>z</th>\n",
       "      <th>vx</th>\n",
       "      <th>vy</th>\n",
       "      <th>vz</th>\n",
       "    </tr>\n",
       "  </thead>\n",
       "  <tbody>\n",
       "    <tr>\n",
       "      <th>0</th>\n",
       "      <td>-0.378443</td>\n",
       "      <td>0.080907</td>\n",
       "      <td>0.002226</td>\n",
       "      <td>-2.112302</td>\n",
       "      <td>-9.873583</td>\n",
       "      <td>0.288668</td>\n",
       "    </tr>\n",
       "    <tr>\n",
       "      <th>1</th>\n",
       "      <td>0.693871</td>\n",
       "      <td>-0.203020</td>\n",
       "      <td>0.017429</td>\n",
       "      <td>2.075445</td>\n",
       "      <td>7.090712</td>\n",
       "      <td>0.120947</td>\n",
       "    </tr>\n",
       "    <tr>\n",
       "      <th>2</th>\n",
       "      <td>0.402438</td>\n",
       "      <td>-0.915438</td>\n",
       "      <td>0.011567</td>\n",
       "      <td>5.751355</td>\n",
       "      <td>2.531136</td>\n",
       "      <td>0.047764</td>\n",
       "    </tr>\n",
       "    <tr>\n",
       "      <th>3</th>\n",
       "      <td>0.187732</td>\n",
       "      <td>-1.511265</td>\n",
       "      <td>0.040373</td>\n",
       "      <td>5.049493</td>\n",
       "      <td>0.622869</td>\n",
       "      <td>-0.180466</td>\n",
       "    </tr>\n",
       "    <tr>\n",
       "      <th>4</th>\n",
       "      <td>-5.197371</td>\n",
       "      <td>-0.271767</td>\n",
       "      <td>-0.016216</td>\n",
       "      <td>0.142981</td>\n",
       "      <td>-2.750564</td>\n",
       "      <td>0.001596</td>\n",
       "    </tr>\n",
       "  </tbody>\n",
       "</table>\n",
       "</div>"
      ],
      "text/plain": [
       "          x         y         z        vx        vy        vz\n",
       "0 -0.378443  0.080907  0.002226 -2.112302 -9.873583  0.288668\n",
       "1  0.693871 -0.203020  0.017429  2.075445  7.090712  0.120947\n",
       "2  0.402438 -0.915438  0.011567  5.751355  2.531136  0.047764\n",
       "3  0.187732 -1.511265  0.040373  5.049493  0.622869 -0.180466\n",
       "4 -5.197371 -0.271767 -0.016216  0.142981 -2.750564  0.001596"
      ]
     },
     "execution_count": 3,
     "metadata": {},
     "output_type": "execute_result"
    }
   ],
   "source": [
    "# Read cartesian coordinates\n",
    "coord = pd.read_csv('../data/xv_invar.csv', dtype=float, delimiter=',')\n",
    "coord.head()"
   ]
  },
  {
   "cell_type": "code",
   "execution_count": 4,
   "metadata": {},
   "outputs": [],
   "source": [
    "# Variables\n",
    "x  = np.array(coord.x)\n",
    "y  = np.array(coord.y)\n",
    "z  = np.array(coord.z)\n",
    "vx  = np.array(coord.vx)\n",
    "vy  = np.array(coord.vy)\n",
    "vz  = np.array(coord.vz)"
   ]
  },
  {
   "cell_type": "markdown",
   "metadata": {},
   "source": [
    "## Configuring Sun's data\n",
    "\n",
    "Configuring the Sun data.\n",
    "\n",
    "- First line: 9 is the sum of the number of planets and the Sun (8 + 1).\n",
    "- Second line: 39.476926421373015 is the parameter gm, considering G = 1.\n",
    "- Third line: Position of the Sun in a heliocentric system.\n",
    "- Fourth line: Speed of the Sun in a heliocentric system."
   ]
  },
  {
   "cell_type": "code",
   "execution_count": 5,
   "metadata": {},
   "outputs": [],
   "source": [
    "sun_data = \\\n",
    "\"\"\"9\n",
    "39.476926421373015\n",
    "0.0 0.0 0.0\n",
    "0.0 0.0 0.0\\n\"\"\""
   ]
  },
  {
   "cell_type": "markdown",
   "metadata": {},
   "source": [
    "## Create files"
   ]
  },
  {
   "cell_type": "code",
   "execution_count": 6,
   "metadata": {},
   "outputs": [],
   "source": [
    "if os.path.isdir(path_ss_data):\n",
    "    shutil.rmtree(path_ss_data)\n",
    "    os.mkdir(path_ss_data)\n",
    "else:\n",
    "    os.mkdir(path_ss_data)\n",
    "in_files = glob('../src/*.in')\n",
    "k = -1\n",
    "for i in range(n_clones):\n",
    "    os.mkdir(path_ss_data + 'ss-' + str(i))\n",
    "    for file in in_files:\n",
    "        shutil.copy(file, path_ss_data + 'ss-' + str(i))\n",
    "    with open(path_ss_data + 'ss-' + str(i) + \"/\" +'pl.in', 'w') as f:\n",
    "        f.write(sun_data)\n",
    "        for j in range(n_planets):\n",
    "            k = k + 1\n",
    "            f.write('{0:.15e}\\n'.format(m[j]))\n",
    "            f.write('{0:.15e} {1:.15e} {2:.15e}\\n'.format(x[k], y[k], z[k]))\n",
    "            f.write('{0:.15e} {1:.15e} {2:.15e}\\n'.format(vx[k], vy[k], vz[k]))"
   ]
  },
  {
   "cell_type": "markdown",
   "metadata": {},
   "source": [
    "## Verifying results"
   ]
  },
  {
   "cell_type": "markdown",
   "metadata": {},
   "source": [
    "### directories"
   ]
  },
  {
   "cell_type": "code",
   "execution_count": 7,
   "metadata": {},
   "outputs": [
    {
     "name": "stdout",
     "output_type": "stream",
     "text": [
      "['ss-0', 'ss-1', 'ss-10', 'ss-11', 'ss-12', 'ss-13', 'ss-14', 'ss-15', 'ss-16', 'ss-17', 'ss-18', 'ss-19', 'ss-2', 'ss-20', 'ss-21', 'ss-22', 'ss-23', 'ss-24', 'ss-25', 'ss-26', 'ss-27', 'ss-28', 'ss-29', 'ss-3', 'ss-30', 'ss-31', 'ss-32', 'ss-33', 'ss-34', 'ss-35', 'ss-36', 'ss-37', 'ss-38', 'ss-39', 'ss-4', 'ss-40', 'ss-41', 'ss-42', 'ss-43', 'ss-44', 'ss-45', 'ss-46', 'ss-47', 'ss-48', 'ss-49', 'ss-5', 'ss-50', 'ss-51', 'ss-52', 'ss-53', 'ss-54', 'ss-55', 'ss-56', 'ss-57', 'ss-58', 'ss-59', 'ss-6', 'ss-60', 'ss-61', 'ss-62', 'ss-63', 'ss-64', 'ss-65', 'ss-66', 'ss-67', 'ss-68', 'ss-69', 'ss-7', 'ss-70', 'ss-71', 'ss-72', 'ss-73', 'ss-74', 'ss-75', 'ss-76', 'ss-77', 'ss-78', 'ss-79', 'ss-8', 'ss-80', 'ss-81', 'ss-82', 'ss-83', 'ss-84', 'ss-85', 'ss-86', 'ss-87', 'ss-88', 'ss-89', 'ss-9', 'ss-90', 'ss-91', 'ss-92', 'ss-93', 'ss-94', 'ss-95']\n"
     ]
    }
   ],
   "source": [
    "print(os.listdir('../data/ss'))"
   ]
  },
  {
   "cell_type": "markdown",
   "metadata": {},
   "source": [
    "### pl.in"
   ]
  },
  {
   "cell_type": "code",
   "execution_count": 8,
   "metadata": {},
   "outputs": [
    {
     "name": "stdout",
     "output_type": "stream",
     "text": [
      "9\n",
      "\n",
      "39.476926421373015\n",
      "\n",
      "0.0 0.0 0.0\n",
      "\n",
      "0.0 0.0 0.0\n",
      "\n",
      "6.553712640384048e-06\n",
      "\n",
      "-3.784429407079015e-01 8.090705824169270e-02 2.225878834738756e-03\n",
      "\n",
      "-2.112301773747939e+00 -9.873582935271862e+00 2.886681554111256e-01\n",
      "\n",
      "9.663314328186044e-05\n",
      "\n",
      "6.938706770455104e-01 -2.030199448113820e-01 1.742942179592838e-02\n",
      "\n",
      "2.075444886419504e+00 7.090711801124457e+00 1.209471614996077e-01\n",
      "\n",
      "1.200269375704997e-04\n",
      "\n",
      "4.024378767578142e-01 -9.154377163763976e-01 1.156660010942464e-02\n",
      "\n",
      "5.751354603477093e+00 2.531136138193705e+00 4.776368040615619e-02\n",
      "\n",
      "1.273979777116743e-05\n",
      "\n",
      "1.877320480762807e-01 -1.511264586944215e+00 4.037293626478593e-02\n",
      "\n",
      "5.049492733679217e+00 6.228687505491277e-01 -1.804664333080271e-01\n",
      "\n",
      "3.769224303888036e-02\n",
      "\n",
      "-5.197370984725507e+00 -2.717674299106944e-01 -1.621551345381765e-02\n",
      "\n",
      "1.429811060067921e-01 -2.750564121972599e+00 1.596236388042731e-03\n",
      "\n",
      "1.128588775599917e-02\n",
      "\n",
      "6.611802411707499e+00 6.939286952648013e+00 -8.856323430918456e-02\n",
      "\n",
      "-1.470143306031355e+00 1.398344179448588e+00 -1.291450869973276e-02\n",
      "\n",
      "1.723661891724345e-03\n",
      "\n",
      "-1.714466349017668e+01 8.686546515673411e+00 -9.088588473195608e-01\n",
      "\n",
      "-6.466968692678479e-01 -1.277366198469261e+00 -2.484662372381844e-02\n",
      "\n",
      "2.033612060350484e-03\n",
      "\n",
      "-2.977765386034852e+01 -4.328473032715582e+00 -7.466935929294387e-01\n",
      "\n",
      "1.644273321032461e-01 -1.133053646928806e+00 2.363473661625899e-02\n",
      "\n"
     ]
    }
   ],
   "source": [
    "with open(path_ss_data + 'ss-0/pl.in') as f:\n",
    "    for i in f.readlines():\n",
    "        print(i)"
   ]
  }
 ],
 "metadata": {
  "kernelspec": {
   "display_name": "Python 3",
   "language": "python",
   "name": "python3"
  },
  "language_info": {
   "codemirror_mode": {
    "name": "ipython",
    "version": 3
   },
   "file_extension": ".py",
   "mimetype": "text/x-python",
   "name": "python",
   "nbconvert_exporter": "python",
   "pygments_lexer": "ipython3",
   "version": "3.6.5"
  }
 },
 "nbformat": 4,
 "nbformat_minor": 2
}
